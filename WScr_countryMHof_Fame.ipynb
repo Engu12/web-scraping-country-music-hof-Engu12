{
 "cells": [
  {
   "cell_type": "code",
   "execution_count": 1,
   "metadata": {},
   "outputs": [],
   "source": [
    "import requests\n",
    "from bs4 import BeautifulSoup  \n",
    "import pandas as pd"
   ]
  },
  {
   "cell_type": "markdown",
   "metadata": {},
   "source": [
    "# 1. Extracting The URL"
   ]
  },
  {
   "cell_type": "code",
   "execution_count": 2,
   "metadata": {},
   "outputs": [
    {
     "data": {
      "text/plain": [
       "200"
      ]
     },
     "execution_count": 2,
     "metadata": {},
     "output_type": "execute_result"
    }
   ],
   "source": [
    "website_url = 'https://countrymusichalloffame.org/hall-of-fame/members/'\n",
    "response = requests.get(website_url)\n",
    "\n",
    "response.status_code"
   ]
  },
  {
   "cell_type": "markdown",
   "metadata": {},
   "source": [
    "# 2.Getting The Artists List"
   ]
  },
  {
   "cell_type": "code",
   "execution_count": 9,
   "metadata": {},
   "outputs": [],
   "source": [
    "Cou_Music = BeautifulSoup(response.content, 'lxml')"
   ]
  },
  {
   "cell_type": "code",
   "execution_count": 10,
   "metadata": {},
   "outputs": [
    {
     "name": "stdout",
     "output_type": "stream",
     "text": [
      "Roy Acuff\n",
      "Alabama\n",
      "Bill Anderson\n",
      "Eddy Arnold\n",
      "Chet Atkins\n",
      "Gene Autry\n",
      "DeFord Bailey\n",
      "Bobby Bare\n",
      "Johnny Bond\n"
     ]
    }
   ],
   "source": [
    "Artists_List =[]\n",
    "for artist in Cou_Music.find_all('h3'):\n",
    "    print(artist.text)\n",
    "    Artists_List.append(artist.text)"
   ]
  },
  {
   "cell_type": "code",
   "execution_count": 5,
   "metadata": {},
   "outputs": [
    {
     "name": "stdout",
     "output_type": "stream",
     "text": [
      "['Roy Acuff', 'Alabama', 'Bill Anderson', 'Eddy Arnold', 'Chet Atkins', 'Gene Autry', 'DeFord Bailey', 'Bobby Bare', 'Johnny Bond']\n"
     ]
    }
   ],
   "source": [
    "print(Artists_List)\n"
   ]
  },
  {
   "cell_type": "markdown",
   "metadata": {},
   "source": [
    "# 3. Getting the Year an Artist Inducted  "
   ]
  },
  {
   "cell_type": "code",
   "execution_count": 17,
   "metadata": {},
   "outputs": [
    {
     "data": {
      "text/plain": [
       "bs4.element.ResultSet"
      ]
     },
     "execution_count": 17,
     "metadata": {},
     "output_type": "execute_result"
    }
   ],
   "source": [
    "years = Cou_Music.find_all('div',attrs={'class':'vertical-card_content--copy'})\n",
    "type(years)"
   ]
  },
  {
   "cell_type": "code",
   "execution_count": 7,
   "metadata": {},
   "outputs": [
    {
     "name": "stdout",
     "output_type": "stream",
     "text": [
      "['1962', '2005', '2001', '1966', '1973', '1969', '2005', '2013', '1999']\n"
     ]
    }
   ],
   "source": [
    "inducted=[]\n",
    "for i in range (len(years)):\n",
    "    Y = years[i].get_text().replace(\"\\n\",\"\").replace(\"Inducted\",\"\").strip()\n",
    "    inducted.append(Y)\n",
    "print(inducted)"
   ]
  },
  {
   "cell_type": "code",
   "execution_count": null,
   "metadata": {},
   "outputs": [],
   "source": []
  },
  {
   "cell_type": "code",
   "execution_count": null,
   "metadata": {},
   "outputs": [],
   "source": [
    "inducted =[]\n"
   ]
  },
  {
   "cell_type": "code",
   "execution_count": null,
   "metadata": {},
   "outputs": [],
   "source": []
  },
  {
   "cell_type": "code",
   "execution_count": 11,
   "metadata": {},
   "outputs": [
    {
     "data": {
      "text/html": [
       "<div>\n",
       "<style scoped>\n",
       "    .dataframe tbody tr th:only-of-type {\n",
       "        vertical-align: middle;\n",
       "    }\n",
       "\n",
       "    .dataframe tbody tr th {\n",
       "        vertical-align: top;\n",
       "    }\n",
       "\n",
       "    .dataframe thead th {\n",
       "        text-align: right;\n",
       "    }\n",
       "</style>\n",
       "<table border=\"1\" class=\"dataframe\">\n",
       "  <thead>\n",
       "    <tr style=\"text-align: right;\">\n",
       "      <th></th>\n",
       "      <th>Name</th>\n",
       "      <th>Inducted</th>\n",
       "    </tr>\n",
       "  </thead>\n",
       "  <tbody>\n",
       "    <tr>\n",
       "      <th>0</th>\n",
       "      <td>Roy Acuff</td>\n",
       "      <td>1962</td>\n",
       "    </tr>\n",
       "    <tr>\n",
       "      <th>1</th>\n",
       "      <td>Alabama</td>\n",
       "      <td>2005</td>\n",
       "    </tr>\n",
       "    <tr>\n",
       "      <th>2</th>\n",
       "      <td>Bill Anderson</td>\n",
       "      <td>2001</td>\n",
       "    </tr>\n",
       "    <tr>\n",
       "      <th>3</th>\n",
       "      <td>Eddy Arnold</td>\n",
       "      <td>1966</td>\n",
       "    </tr>\n",
       "    <tr>\n",
       "      <th>4</th>\n",
       "      <td>Chet Atkins</td>\n",
       "      <td>1973</td>\n",
       "    </tr>\n",
       "    <tr>\n",
       "      <th>5</th>\n",
       "      <td>Gene Autry</td>\n",
       "      <td>1969</td>\n",
       "    </tr>\n",
       "    <tr>\n",
       "      <th>6</th>\n",
       "      <td>DeFord Bailey</td>\n",
       "      <td>2005</td>\n",
       "    </tr>\n",
       "    <tr>\n",
       "      <th>7</th>\n",
       "      <td>Bobby Bare</td>\n",
       "      <td>2013</td>\n",
       "    </tr>\n",
       "    <tr>\n",
       "      <th>8</th>\n",
       "      <td>Johnny Bond</td>\n",
       "      <td>1999</td>\n",
       "    </tr>\n",
       "  </tbody>\n",
       "</table>\n",
       "</div>"
      ],
      "text/plain": [
       "            Name Inducted\n",
       "0      Roy Acuff     1962\n",
       "1        Alabama     2005\n",
       "2  Bill Anderson     2001\n",
       "3    Eddy Arnold     1966\n",
       "4    Chet Atkins     1973\n",
       "5     Gene Autry     1969\n",
       "6  DeFord Bailey     2005\n",
       "7     Bobby Bare     2013\n",
       "8    Johnny Bond     1999"
      ]
     },
     "execution_count": 11,
     "metadata": {},
     "output_type": "execute_result"
    }
   ],
   "source": [
    "InductorYr = pd.DataFrame(list(zip(Artists_List,inducted)),columns=['Name','Inducted'])\n",
    "InductorYr"
   ]
  },
  {
   "cell_type": "code",
   "execution_count": 42,
   "metadata": {},
   "outputs": [
    {
     "name": "stdout",
     "output_type": "stream",
     "text": [
      "['Inducted 1962', 'Inducted 2005', 'Inducted 2001', 'Inducted 1966', 'Inducted 1973', 'Inducted 1969', 'Inducted 2005', 'Inducted 2013', 'Inducted 1999']\n"
     ]
    }
   ],
   "source": [
    "x = [element.text for element in Artists.find_all(\"div\", \"vertical-card_content--copy\")]\n",
    "\n",
    "year = []\n",
    "for element in x:\n",
    "    year.append(element.strip())\n",
    "\n",
    "print(year)\n",
    "\n"
   ]
  },
  {
   "cell_type": "code",
   "execution_count": null,
   "metadata": {},
   "outputs": [],
   "source": [
    "test_list = ['1','2','3','4','5','6','7','8','9','10'] \n",
    "\n",
    "def split_list(lst, n):  \n",
    "    for i in range(0, len(lst), n): \n",
    "        yield lst[i:i + n] \n",
    "\n",
    "n = 3\n",
    "\n",
    "output = list(split_list(test_list, n)) \n",
    "print(output)"
   ]
  },
  {
   "cell_type": "code",
   "execution_count": 46,
   "metadata": {},
   "outputs": [
    {
     "name": "stdout",
     "output_type": "stream",
     "text": [
      "[['Inducted 1962'], ['Inducted 2005'], ['Inducted 2001'], ['Inducted 1966'], ['Inducted 1973'], ['Inducted 1969'], ['Inducted 2005'], ['Inducted 2013'], ['Inducted 1999']]\n"
     ]
    }
   ],
   "source": [
    "year = ['Inducted 1962', 'Inducted 2005', 'Inducted 2001', 'Inducted 1966', 'Inducted 1973', 'Inducted 1969', 'Inducted 2005', 'Inducted 2013', 'Inducted 1999']\n",
    "def split_list(lst,n):\n",
    "    for i in range(0,len(lst),n):\n",
    "        yield lst[i:i+n]\n",
    "\n",
    "n=1\n",
    "\n",
    "output =list(split_list(year,n))\n",
    "print(output)\n",
    "\n"
   ]
  },
  {
   "cell_type": "code",
   "execution_count": 12,
   "metadata": {},
   "outputs": [
    {
     "data": {
      "text/plain": [
       "'https://countrymusichalloffame.org/hall-of-fame/members/'"
      ]
     },
     "execution_count": 12,
     "metadata": {},
     "output_type": "execute_result"
    }
   ],
   "source": [
    "home_url=str('https://countrymusichalloffame.org/hall-of-fame/members/')\n",
    "home_url"
   ]
  },
  {
   "cell_type": "code",
   "execution_count": 15,
   "metadata": {},
   "outputs": [
    {
     "data": {
      "text/plain": [
       "['https://countrymusichalloffame.org/hall-of-fame/members/',\n",
       " 'https://countrymusichalloffame.org/hall-of-fame/members//page/2',\n",
       " 'https://countrymusichalloffame.org/hall-of-fame/members//page/3',\n",
       " 'https://countrymusichalloffame.org/hall-of-fame/members//page/4',\n",
       " 'https://countrymusichalloffame.org/hall-of-fame/members//page/5',\n",
       " 'https://countrymusichalloffame.org/hall-of-fame/members//page/6',\n",
       " 'https://countrymusichalloffame.org/hall-of-fame/members//page/7',\n",
       " 'https://countrymusichalloffame.org/hall-of-fame/members//page/8',\n",
       " 'https://countrymusichalloffame.org/hall-of-fame/members//page/9',\n",
       " 'https://countrymusichalloffame.org/hall-of-fame/members//page/10',\n",
       " 'https://countrymusichalloffame.org/hall-of-fame/members//page/11',\n",
       " 'https://countrymusichalloffame.org/hall-of-fame/members//page/12',\n",
       " 'https://countrymusichalloffame.org/hall-of-fame/members//page/13',\n",
       " 'https://countrymusichalloffame.org/hall-of-fame/members//page/14',\n",
       " 'https://countrymusichalloffame.org/hall-of-fame/members//page/15',\n",
       " 'https://countrymusichalloffame.org/hall-of-fame/members//page/16']"
      ]
     },
     "execution_count": 15,
     "metadata": {},
     "output_type": "execute_result"
    }
   ],
   "source": [
    "pages = [home_url]\n",
    "page = 2\n",
    "for n in range(15):\n",
    "    address = home_url+'/page/'+str(page)\n",
    "    pages.append(address)\n",
    "    page +=1\n",
    "pages"
   ]
  },
  {
   "cell_type": "code",
   "execution_count": 31,
   "metadata": {},
   "outputs": [
    {
     "data": {
      "text/plain": [
       "'https://countrymusichalloffame.org/hall-of-fame/members//page/7'"
      ]
     },
     "execution_count": 31,
     "metadata": {},
     "output_type": "execute_result"
    }
   ],
   "source": [
    "pages[6]"
   ]
  },
  {
   "cell_type": "code",
   "execution_count": null,
   "metadata": {},
   "outputs": [],
   "source": [
    "for n in range(15):\n",
    "    address = home_url+'/page/'+str(page)\n",
    "    pages.append(address)\n",
    "    page +=1\n",
    "pages"
   ]
  },
  {
   "cell_type": "code",
   "execution_count": null,
   "metadata": {},
   "outputs": [],
   "source": [
    "Artists_List =[]\n",
    "for artist in Cou_Music.find_all('h3'):\n",
    "    print(artist.text)\n",
    "    Artists_List.append(artist.text)"
   ]
  },
  {
   "cell_type": "code",
   "execution_count": null,
   "metadata": {},
   "outputs": [],
   "source": [
    "website_url = 'https://countrymusichalloffame.org/hall-of-fame/members/'\n",
    "response = requests.get(website_url)\n",
    "response = request.get()\n",
    "response.status_code"
   ]
  },
  {
   "cell_type": "code",
   "execution_count": 50,
   "metadata": {},
   "outputs": [],
   "source": [
    "Cou_Music = BeautifulSoup(response.content, 'lxml')"
   ]
  },
  {
   "cell_type": "code",
   "execution_count": 42,
   "metadata": {
    "scrolled": true
   },
   "outputs": [
    {
     "ename": "AttributeError",
     "evalue": "'str' object has no attribute 'find_all'",
     "output_type": "error",
     "traceback": [
      "\u001b[1;31m---------------------------------------------------------------------------\u001b[0m",
      "\u001b[1;31mAttributeError\u001b[0m                            Traceback (most recent call last)",
      "\u001b[1;32m<ipython-input-42-ca49af6cb63d>\u001b[0m in \u001b[0;36m<module>\u001b[1;34m\u001b[0m\n\u001b[0;32m      5\u001b[0m \u001b[0mArtists_List\u001b[0m \u001b[1;33m=\u001b[0m\u001b[1;33m[\u001b[0m\u001b[1;33m]\u001b[0m\u001b[1;33m\u001b[0m\u001b[1;33m\u001b[0m\u001b[0m\n\u001b[0;32m      6\u001b[0m \u001b[1;32mfor\u001b[0m \u001b[0mi\u001b[0m \u001b[1;32min\u001b[0m \u001b[0mrange\u001b[0m \u001b[1;33m(\u001b[0m\u001b[1;36m16\u001b[0m\u001b[1;33m)\u001b[0m\u001b[1;33m:\u001b[0m\u001b[1;33m\u001b[0m\u001b[1;33m\u001b[0m\u001b[0m\n\u001b[1;32m----> 7\u001b[1;33m         \u001b[1;32mfor\u001b[0m \u001b[0mArtists_List\u001b[0m \u001b[1;32min\u001b[0m \u001b[0mpages\u001b[0m\u001b[1;33m[\u001b[0m\u001b[0mi\u001b[0m\u001b[1;33m]\u001b[0m\u001b[1;33m.\u001b[0m\u001b[0mfind_all\u001b[0m\u001b[1;33m(\u001b[0m\u001b[1;34m'h3'\u001b[0m\u001b[1;33m)\u001b[0m\u001b[1;33m:\u001b[0m\u001b[1;33m\u001b[0m\u001b[1;33m\u001b[0m\u001b[0m\n\u001b[0m\u001b[0;32m      8\u001b[0m             \u001b[0mprint\u001b[0m\u001b[1;33m(\u001b[0m\u001b[0martist\u001b[0m\u001b[1;33m.\u001b[0m\u001b[0mtext\u001b[0m\u001b[1;33m)\u001b[0m\u001b[1;33m\u001b[0m\u001b[1;33m\u001b[0m\u001b[0m\n\u001b[0;32m      9\u001b[0m             \u001b[0mArtists_List\u001b[0m\u001b[1;33m.\u001b[0m\u001b[0mappend\u001b[0m\u001b[1;33m(\u001b[0m\u001b[0martist\u001b[0m\u001b[1;33m.\u001b[0m\u001b[0mtext\u001b[0m\u001b[1;33m)\u001b[0m\u001b[1;33m\u001b[0m\u001b[1;33m\u001b[0m\u001b[0m\n",
      "\u001b[1;31mAttributeError\u001b[0m: 'str' object has no attribute 'find_all'"
     ]
    }
   ],
   "source": [
    "i = 2\n",
    "response = requests.get(pages[i])\n",
    "response.status_code\n",
    "page=BeautifulSoup(response.content, 'lxml')\n",
    "Artists_List =[]\n",
    "for i in range (16):\n",
    "        for Artists_List in pages[i].find_all('h3'):\n",
    "            print(artist.text)\n",
    "            Artists_List.append(artist.text) \n",
    "            i=+1\n",
    "    \n",
    "Artists_List\n",
    "                                            "
   ]
  },
  {
   "cell_type": "code",
   "execution_count": null,
   "metadata": {},
   "outputs": [],
   "source": []
  },
  {
   "cell_type": "markdown",
   "metadata": {},
   "source": [
    "# Bonus Hint From Teng"
   ]
  },
  {
   "cell_type": "code",
   "execution_count": 53,
   "metadata": {},
   "outputs": [],
   "source": [
    "d = Cou_Music.find_all('div', class_='vertical-card_content')\n"
   ]
  },
  {
   "cell_type": "code",
   "execution_count": 54,
   "metadata": {},
   "outputs": [
    {
     "data": {
      "text/plain": [
       "['https://countrymusichalloffame.org/artist/boudleaux-and-felice-bryant/',\n",
       " 'https://countrymusichalloffame.org/artist/glen-campbell/',\n",
       " 'https://countrymusichalloffame.org/artist/bill-carlisle/',\n",
       " 'https://countrymusichalloffame.org/artist/carter-family/',\n",
       " 'https://countrymusichalloffame.org/artist/johnny-cash/',\n",
       " 'https://countrymusichalloffame.org/artist/roy-clark/',\n",
       " 'https://countrymusichalloffame.org/artist/cowboy-jack-clement/',\n",
       " 'https://countrymusichalloffame.org/artist/patsy-cline/',\n",
       " 'https://countrymusichalloffame.org/artist/hank-cochran/']"
      ]
     },
     "execution_count": 54,
     "metadata": {},
     "output_type": "execute_result"
    }
   ],
   "source": [
    "web_address = []\n",
    "\n",
    "for element in d:\n",
    "    link = element.a['href']\n",
    "    web_address.append(link)\n",
    "\n",
    "web_address"
   ]
  }
 ],
 "metadata": {
  "kernelspec": {
   "display_name": "Python 3",
   "language": "python",
   "name": "python3"
  },
  "language_info": {
   "codemirror_mode": {
    "name": "ipython",
    "version": 3
   },
   "file_extension": ".py",
   "mimetype": "text/x-python",
   "name": "python",
   "nbconvert_exporter": "python",
   "pygments_lexer": "ipython3",
   "version": "3.8.5"
  }
 },
 "nbformat": 4,
 "nbformat_minor": 4
}
